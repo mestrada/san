{
 "metadata": {
  "name": "ANN Network Analysis"
 },
 "nbformat": 3,
 "nbformat_minor": 0,
 "worksheets": [
  {
   "cells": [
    {
     "cell_type": "markdown",
     "metadata": {},
     "source": "#ACL anthology network\nIn this ipython notebook the AAN dataset is processed showing important network morphologic properties and metrics like:\n- Centrality\n- Size\n- Average degree\n- etc."
    },
    {
     "cell_type": "markdown",
     "metadata": {},
     "source": "# How to use NetworkX python library"
    },
    {
     "cell_type": "code",
     "collapsed": false,
     "input": "import networkx as nx\nimport matplotlib.pyplot as plt\nG=nx.Graph()",
     "language": "python",
     "metadata": {},
     "outputs": [],
     "prompt_number": 1
    },
    {
     "cell_type": "code",
     "collapsed": false,
     "input": "G.add_node('W09-123')\nG.add_nodes_from([2,3])",
     "language": "python",
     "metadata": {},
     "outputs": [],
     "prompt_number": 2
    },
    {
     "cell_type": "code",
     "collapsed": false,
     "input": "G.add_edge(1,2)\ne=('W09-123',3)\nG.add_edge(*e)",
     "language": "python",
     "metadata": {},
     "outputs": [],
     "prompt_number": 3
    },
    {
     "cell_type": "code",
     "collapsed": false,
     "input": "nx.draw(G)\nplt.show()",
     "language": "python",
     "metadata": {},
     "outputs": [],
     "prompt_number": 4
    },
    {
     "cell_type": "code",
     "collapsed": false,
     "input": "G.nodes()",
     "language": "python",
     "metadata": {},
     "outputs": [
      {
       "metadata": {},
       "output_type": "pyout",
       "prompt_number": 7,
       "text": "[1, 2, 3, 'W09-123']"
      }
     ],
     "prompt_number": 7
    },
    {
     "cell_type": "code",
     "collapsed": false,
     "input": "G.edges()",
     "language": "python",
     "metadata": {},
     "outputs": [
      {
       "metadata": {},
       "output_type": "pyout",
       "prompt_number": 9,
       "text": "[(1, 2), (3, 'W09-123')]"
      }
     ],
     "prompt_number": 9
    },
    {
     "cell_type": "markdown",
     "metadata": {},
     "source": "# Load and preprocess dataset files"
    },
    {
     "cell_type": "code",
     "collapsed": false,
     "input": "",
     "language": "python",
     "metadata": {},
     "outputs": []
    }
   ],
   "metadata": {}
  }
 ]
}