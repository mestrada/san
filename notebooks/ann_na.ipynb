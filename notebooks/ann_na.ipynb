{
 "metadata": {
  "name": "ANN Network Analysis"
 },
 "nbformat": 3,
 "nbformat_minor": 0,
 "worksheets": [
  {
   "cells": [
    {
     "cell_type": "markdown",
     "metadata": {},
     "source": "#ACL anthology network\nIn this ipython notebook the AAN dataset is processed showing important network morphologic properties and metrics like:\n- Centrality\n- Size\n- Average degree\n- etc."
    },
    {
     "cell_type": "markdown",
     "metadata": {},
     "source": "# Load and preprocess dataset files\n## Files content\n\nLocation: `/home/matias/devel/inf414/datasets/aan/aan/release/2013`\n\n`acl.txt`:\n\n```\nC08-3004 ==> A00-1002\nD09-1141 ==> A00-1002\nD12-1027 ==> A00-1002\n\n```\n\n`paper_author_affiliations.txt`\n\n```\npaper_id\tauthor_id\taffiliation_id\nC86-1068\t10003\t1\nC98-1070\t2610\t2\nP98-1073\t2610\t2\n```\n\n\n`author_ids.txt`:\n```\n1\tAarseth, Paul\n2\tAarts, Erik\n4\tAbaitua, Joseba\n```\n\n`paper_ids.txt`:\n\n```\nW09-2307\tDiscriminative Reordering...\t2009\nW04-2607\tNon-Classical Lexical Semantic...\t2004\nW01-1314\tA System For Extraction Of...\t2001\n```\n"
    },
    {
     "cell_type": "markdown",
     "metadata": {},
     "source": "## Load Author data\n\n```\npaper_author_affiliations.txt\npaper_id    author_id    affiliation_id\nC86-1068    10003    1\nC98-1070    2610    2\nP98-1073    2610    2\n```\n\n**Average authors per paper**: 2,44\n\n**Average papers per author**: 3,11\n\n"
    },
    {
     "cell_type": "code",
     "collapsed": false,
     "input": "dataset_location = '/home/matias/devel/inf414/datasets/aan/aan/release/2013/'\npaper_author = []\nwith open(dataset_location + 'paper_author_affiliations.txt', 'r') as acl_file:\n    # C86-1068    10003    1\n    # Remove header\n    acl_file.readline()\n    separator = '\\t'\n    for line in acl_file.readlines():\n        paper_author.append(line.strip().split(separator)[:2])\n",
     "language": "python",
     "metadata": {},
     "outputs": [],
     "prompt_number": 1
    },
    {
     "cell_type": "code",
     "collapsed": false,
     "input": "len(paper_author)",
     "language": "python",
     "metadata": {},
     "outputs": [
      {
       "metadata": {},
       "output_type": "pyout",
       "prompt_number": 2,
       "text": "36501"
      }
     ],
     "prompt_number": 2
    },
    {
     "cell_type": "code",
     "collapsed": false,
     "input": "from collections import Counter\npaper_author_dist = Counter(map(lambda x: x[0], paper_author))\nauthor_paper_dist = Counter(map(lambda x: x[1], paper_author))",
     "language": "python",
     "metadata": {},
     "outputs": [],
     "prompt_number": 3
    },
    {
     "cell_type": "code",
     "collapsed": false,
     "input": "len(paper_author_dist)",
     "language": "python",
     "metadata": {},
     "outputs": [
      {
       "metadata": {},
       "output_type": "pyout",
       "prompt_number": 4,
       "text": "14981"
      }
     ],
     "prompt_number": 4
    },
    {
     "cell_type": "code",
     "collapsed": false,
     "input": "len(author_paper_dist)",
     "language": "python",
     "metadata": {},
     "outputs": [
      {
       "metadata": {},
       "output_type": "pyout",
       "prompt_number": 5,
       "text": "11724"
      }
     ],
     "prompt_number": 5
    },
    {
     "cell_type": "code",
     "collapsed": false,
     "input": "paper_author_dist = paper_author_dist.items()\nauthor_paper_dist = author_paper_dist.items()",
     "language": "python",
     "metadata": {},
     "outputs": [],
     "prompt_number": 6
    },
    {
     "cell_type": "code",
     "collapsed": false,
     "input": "paper_author_dist = sorted(paper_author_dist, key=lambda x: x[1])\nauthor_paper_dist = sorted(author_paper_dist, key=lambda x: x[1])",
     "language": "python",
     "metadata": {},
     "outputs": [],
     "prompt_number": 7
    },
    {
     "cell_type": "code",
     "collapsed": false,
     "input": "paper_author_dist[-1]",
     "language": "python",
     "metadata": {},
     "outputs": [
      {
       "metadata": {},
       "output_type": "pyout",
       "prompt_number": 8,
       "text": "('H01-1038', 19)"
      }
     ],
     "prompt_number": 8
    },
    {
     "cell_type": "code",
     "collapsed": false,
     "input": "author_paper_dist[-1]",
     "language": "python",
     "metadata": {},
     "outputs": [
      {
       "metadata": {},
       "output_type": "pyout",
       "prompt_number": 9,
       "text": "('8313', 127)"
      }
     ],
     "prompt_number": 9
    },
    {
     "cell_type": "code",
     "collapsed": false,
     "input": "import matplotlib.pyplot as plt\n\nauthors_count = map(lambda x: x[1], paper_author_dist)\n\npadist = Counter(authors_count)\npadist = padist.items()\n\nx = map(lambda x: x[0], padist)\ny = map(lambda x: x[1], padist)\n\nfig = plt.figure()\naxes = fig.add_subplot(111)\n\naxes.plot(x, y)\n\naxes.set_xscale('log')\naxes.set_yscale('log')\nplt.show()\n",
     "language": "python",
     "metadata": {},
     "outputs": [],
     "prompt_number": 10
    },
    {
     "cell_type": "code",
     "collapsed": false,
     "input": "import matplotlib.pyplot as plt\n\nauthors_count = map(lambda x: x[1], author_paper_dist)\n\npadist = Counter(authors_count)\npadist = padist.items()\n\nx = map(lambda x: x[0], padist)\ny = map(lambda x: x[1], padist)\n\nfig = plt.figure()\naxes = fig.add_subplot(111)\n\naxes.plot(x, y)\n\naxes.set_xscale('log')\naxes.set_yscale('log')\nplt.show()\n",
     "language": "python",
     "metadata": {},
     "outputs": [],
     "prompt_number": 11
    },
    {
     "cell_type": "code",
     "collapsed": false,
     "input": "avg_author_paper = sum(map(lambda x: x[1], paper_author_dist)) / float(len(paper_author_dist))\nprint \"Avg. authors per paper: {0}\".format(avg_author_paper)",
     "language": "python",
     "metadata": {},
     "outputs": [
      {
       "output_type": "stream",
       "stream": "stdout",
       "text": "Avg. authors per paper: 2.43648621587\n"
      }
     ],
     "prompt_number": 12
    },
    {
     "cell_type": "code",
     "collapsed": false,
     "input": "avg_paper_author = sum(map(lambda x: x[1], author_paper_dist)) / float(len(author_paper_dist))\nprint \"Avg. papers per author: {0}\".format(avg_paper_author)",
     "language": "python",
     "metadata": {},
     "outputs": [
      {
       "output_type": "stream",
       "stream": "stdout",
       "text": "Avg. papers per author: 3.11335721597\n"
      }
     ],
     "prompt_number": 13
    },
    {
     "cell_type": "markdown",
     "metadata": {},
     "source": "## General network metrics\n\n**Nodes**: 18.160\n\n**Edges**: 110.930\n\n**Average out degree**: 6,1085\n\nConnected components: 98\n- Largest component: 17.954 nodes\n- Second largest component: 2 nodes\n\nMost influential node by pagerank: `A88-1019`: \n```\nauthor = {Church, Kenneth Ward}\ntitle = {A Stochastic Parts Program And Noun Phrase Parser For Unrestricted Text}\nvenue = {Applied Natural Language Processing Conference}\nyear = {1988}\ndegree = {237}\n```\n\nMost influential node by degree: `J93-2004`\n```\nid = {J93-2004}\nauthor = {Marcus, Mitchell P.; Marcinkiewicz, Mary Ann; Santorini, Beatrice}\ntitle = {Building A Large Annotated Corpus Of English: The Penn Treebank}\nvenue = {Computational Linguistics}\nyear = {1993}\ndegree = {936}\n```\n\nNode with the greatest triangle participations:\n\n\n```\nid = {J93-2003}\nauthor = {Brown, Peter F.; Della Pietra, Vincent J.; Della Pietra, Stephen A.; Mercer, Robert L.}\ntitle = {The Mathematics Of Statistical Machine Translation: Parameter Estimation}\nvenue = {Computational Linguistics}\nyear = {1993}\ndegree = {737}\n\n```\n\n"
    },
    {
     "cell_type": "markdown",
     "metadata": {},
     "source": "## Generate acl directed multigraph"
    },
    {
     "cell_type": "code",
     "collapsed": false,
     "input": "dataset_location = '/home/matias/devel/inf414/datasets/aan/aan/release/2013/'\nedges = []\nwith open(dataset_location + 'acl.txt', 'r') as acl_file:\n    #  C08-3004 ==> A00-1002\n    separator = ' ==> '\n    for line in acl_file.readlines():\n        edges.append(line.strip().split(separator))\n",
     "language": "python",
     "metadata": {},
     "outputs": [],
     "prompt_number": 14
    },
    {
     "cell_type": "code",
     "collapsed": false,
     "input": "import networkx as nx\nimport matplotlib.pyplot as plt\n\nacl = nx.MultiDiGraph()\nfor edge in edges:\n    acl.add_edge(*edge, etype='cite')\n",
     "language": "python",
     "metadata": {},
     "outputs": [],
     "prompt_number": 15
    },
    {
     "cell_type": "markdown",
     "metadata": {},
     "source": "### General stats\n"
    },
    {
     "cell_type": "code",
     "collapsed": false,
     "input": "len(acl.nodes())",
     "language": "python",
     "metadata": {},
     "outputs": [
      {
       "metadata": {},
       "output_type": "pyout",
       "prompt_number": 16,
       "text": "18160"
      }
     ],
     "prompt_number": 16
    },
    {
     "cell_type": "code",
     "collapsed": false,
     "input": "len(acl.edges())",
     "language": "python",
     "metadata": {},
     "outputs": [
      {
       "metadata": {},
       "output_type": "pyout",
       "prompt_number": 17,
       "text": "110930"
      }
     ],
     "prompt_number": 17
    },
    {
     "cell_type": "markdown",
     "metadata": {},
     "source": "### Connected components"
    },
    {
     "cell_type": "code",
     "collapsed": false,
     "input": "cc = nx.connected_components(acl.to_undirected())",
     "language": "python",
     "metadata": {},
     "outputs": [],
     "prompt_number": 18
    },
    {
     "cell_type": "code",
     "collapsed": false,
     "input": "ccl = list(cc)",
     "language": "python",
     "metadata": {},
     "outputs": [],
     "prompt_number": 19
    },
    {
     "cell_type": "code",
     "collapsed": false,
     "input": "len(ccl)",
     "language": "python",
     "metadata": {},
     "outputs": [
      {
       "metadata": {},
       "output_type": "pyout",
       "prompt_number": 20,
       "text": "97"
      }
     ],
     "prompt_number": 20
    },
    {
     "cell_type": "code",
     "collapsed": false,
     "input": "ccl = sorted(ccl, cmp=lambda x, y: len(x) > len(y))",
     "language": "python",
     "metadata": {},
     "outputs": [],
     "prompt_number": 21
    },
    {
     "cell_type": "code",
     "collapsed": false,
     "input": "len(ccl[0])",
     "language": "python",
     "metadata": {},
     "outputs": [
      {
       "metadata": {},
       "output_type": "pyout",
       "prompt_number": 22,
       "text": "17954"
      }
     ],
     "prompt_number": 22
    },
    {
     "cell_type": "code",
     "collapsed": false,
     "input": "len(ccl[1])",
     "language": "python",
     "metadata": {},
     "outputs": [
      {
       "metadata": {},
       "output_type": "pyout",
       "prompt_number": 23,
       "text": "2"
      }
     ],
     "prompt_number": 23
    },
    {
     "cell_type": "code",
     "collapsed": false,
     "input": "sum(map(lambda x: len(x), ccl))",
     "language": "python",
     "metadata": {},
     "outputs": [
      {
       "metadata": {},
       "output_type": "pyout",
       "prompt_number": 24,
       "text": "18160"
      }
     ],
     "prompt_number": 24
    },
    {
     "cell_type": "code",
     "collapsed": false,
     "input": "bc = nx.centrality.betweenness_centrality(acl)",
     "language": "python",
     "metadata": {},
     "outputs": [],
     "prompt_number": 53
    },
    {
     "cell_type": "code",
     "collapsed": false,
     "input": "len(bc)",
     "language": "python",
     "metadata": {},
     "outputs": []
    },
    {
     "cell_type": "code",
     "collapsed": false,
     "input": "acl.degree('W03-0404')",
     "language": "python",
     "metadata": {},
     "outputs": [
      {
       "metadata": {},
       "output_type": "pyout",
       "prompt_number": 26,
       "text": "58"
      }
     ],
     "prompt_number": 26
    },
    {
     "cell_type": "markdown",
     "metadata": {},
     "source": "### Get subgraph according to nesting level"
    },
    {
     "cell_type": "code",
     "collapsed": false,
     "input": "def get_sucessors(network, seed, recursivity=2):\n    current_group = [seed]\n    new_group = []\n    for _ in xrange(0, recursivity):\n        for member in current_group:\n            for successor in network.successors(member):\n                new_group.append(successor)\n        \n        new_group += current_group\n        current_group = list(set(new_group))\n\n    return current_group\n\n#root = acl.successors('W03-1006')\nroot = 'W03-1006'\n\nmembers = get_sucessors(acl, root)\n\nsg_2 = acl.subgraph(list(members))\n",
     "language": "python",
     "metadata": {},
     "outputs": [],
     "prompt_number": 27
    },
    {
     "cell_type": "code",
     "collapsed": false,
     "input": "len(sg_2.nodes())",
     "language": "python",
     "metadata": {},
     "outputs": [
      {
       "metadata": {},
       "output_type": "pyout",
       "prompt_number": 28,
       "text": "64"
      }
     ],
     "prompt_number": 28
    },
    {
     "cell_type": "code",
     "collapsed": false,
     "input": "len(sg_2.edges())",
     "language": "python",
     "metadata": {},
     "outputs": [
      {
       "metadata": {},
       "output_type": "pyout",
       "prompt_number": 29,
       "text": "218"
      }
     ],
     "prompt_number": 29
    },
    {
     "cell_type": "code",
     "collapsed": false,
     "input": "sg_2.nodes()[:5]",
     "language": "python",
     "metadata": {},
     "outputs": [
      {
       "metadata": {},
       "output_type": "pyout",
       "prompt_number": 30,
       "text": "['A00-2018', 'P02-1031', 'C94-2149', 'P00-1058', 'P93-1035']"
      }
     ],
     "prompt_number": 30
    },
    {
     "cell_type": "code",
     "collapsed": false,
     "input": "from matplotlib import pylab as pl\n\npos = nx.spring_layout(sg_2)\npl.figure()\nnx.draw(sg_2, pos=pos)",
     "language": "python",
     "metadata": {},
     "outputs": [],
     "prompt_number": 31
    },
    {
     "cell_type": "code",
     "collapsed": false,
     "input": "pos = nx.spring_layout(sg_2)\nnx.draw(sg_2, with_labels=False, pos=pos)\nplt.savefig(\"/home/matias/devel/inf414/acl_sg2_r2.png\", dpi=1000)",
     "language": "python",
     "metadata": {},
     "outputs": [],
     "prompt_number": 32
    },
    {
     "cell_type": "markdown",
     "metadata": {},
     "source": "## Generate acl directed graph\n"
    },
    {
     "cell_type": "code",
     "collapsed": false,
     "input": "dataset_location = '/home/matias/devel/inf414/datasets/aan/aan/release/2013/'\nedges = []\nwith open(dataset_location + 'acl.txt', 'r') as acl_file:\n    #  C08-3004 ==> A00-1002\n    separator = ' ==> '\n    for line in acl_file.readlines():\n        edges.append(line.strip().split(separator))\n",
     "language": "python",
     "metadata": {},
     "outputs": [],
     "prompt_number": 3
    },
    {
     "cell_type": "code",
     "collapsed": false,
     "input": "import networkx as nx\nimport matplotlib.pyplot as plt\n\nacl = nx.DiGraph()\nfor edge in edges:\n    acl.add_edge(*edge, etype='cite')\n",
     "language": "python",
     "metadata": {},
     "outputs": [],
     "prompt_number": 4
    },
    {
     "cell_type": "markdown",
     "metadata": {},
     "source": "### Page rank algorithm"
    },
    {
     "cell_type": "code",
     "collapsed": false,
     "input": "pr = nx.pagerank(acl)",
     "language": "python",
     "metadata": {},
     "outputs": [],
     "prompt_number": 5
    },
    {
     "cell_type": "code",
     "collapsed": false,
     "input": "pr = [(k,v) for k,v in pr.items()]",
     "language": "python",
     "metadata": {},
     "outputs": [],
     "prompt_number": 6
    },
    {
     "cell_type": "code",
     "collapsed": false,
     "input": "pr = sorted(pr, key=lambda x: x[1])",
     "language": "python",
     "metadata": {},
     "outputs": [],
     "prompt_number": 7
    },
    {
     "cell_type": "code",
     "collapsed": false,
     "input": "pr[-1]",
     "language": "python",
     "metadata": {},
     "outputs": [
      {
       "metadata": {},
       "output_type": "pyout",
       "prompt_number": 8,
       "text": "('A88-1019', 0.021201671449356026)"
      }
     ],
     "prompt_number": 8
    },
    {
     "cell_type": "markdown",
     "metadata": {},
     "source": "### Nodes degree ranking "
    },
    {
     "cell_type": "code",
     "collapsed": false,
     "input": "dr = [(node, acl.degree(node)) for node in acl.nodes_iter()]",
     "language": "python",
     "metadata": {},
     "outputs": [],
     "prompt_number": 9
    },
    {
     "cell_type": "code",
     "collapsed": false,
     "input": "dr = sorted(dr, key=lambda x: x[1])",
     "language": "python",
     "metadata": {},
     "outputs": [],
     "prompt_number": 10
    },
    {
     "cell_type": "code",
     "collapsed": false,
     "input": "dr[-1]\n",
     "language": "python",
     "metadata": {},
     "outputs": [
      {
       "metadata": {},
       "output_type": "pyout",
       "prompt_number": 11,
       "text": "('J93-2004', 936)"
      }
     ],
     "prompt_number": 11
    },
    {
     "cell_type": "code",
     "collapsed": false,
     "input": "edges_j93 = [edge if 'J93-2004' in edge else None for edge in acl.edges()]",
     "language": "python",
     "metadata": {},
     "outputs": [],
     "prompt_number": 12
    },
    {
     "cell_type": "code",
     "collapsed": false,
     "input": "len(edges_j93)",
     "language": "python",
     "metadata": {},
     "outputs": [
      {
       "metadata": {},
       "output_type": "pyout",
       "prompt_number": 13,
       "text": "110930"
      }
     ],
     "prompt_number": 13
    },
    {
     "cell_type": "code",
     "collapsed": false,
     "input": "edges_j93 = filter(lambda x: x is not None, edges_j93)",
     "language": "python",
     "metadata": {},
     "outputs": [],
     "prompt_number": 14
    },
    {
     "cell_type": "markdown",
     "metadata": {},
     "source": "### Degree centrality"
    },
    {
     "cell_type": "code",
     "collapsed": false,
     "input": "dc = nx.centrality.degree_centrality(acl)",
     "language": "python",
     "metadata": {},
     "outputs": [],
     "prompt_number": 15
    },
    {
     "cell_type": "code",
     "collapsed": false,
     "input": "dc = [(k,v) for k,v in dc.items()]",
     "language": "python",
     "metadata": {},
     "outputs": [],
     "prompt_number": 16
    },
    {
     "cell_type": "code",
     "collapsed": false,
     "input": "dc = sorted(dc, key=lambda x: x[1])",
     "language": "python",
     "metadata": {},
     "outputs": [],
     "prompt_number": 17
    },
    {
     "cell_type": "code",
     "collapsed": false,
     "input": "dc[-1]",
     "language": "python",
     "metadata": {},
     "outputs": [
      {
       "metadata": {},
       "output_type": "pyout",
       "prompt_number": 18,
       "text": "('J93-2004', 0.05154468858417314)"
      }
     ],
     "prompt_number": 18
    },
    {
     "cell_type": "markdown",
     "metadata": {},
     "source": "### Number of triangles"
    },
    {
     "cell_type": "code",
     "collapsed": false,
     "input": "ti = nx.triangles(acl.to_undirected())",
     "language": "python",
     "metadata": {},
     "outputs": [],
     "prompt_number": 19
    },
    {
     "cell_type": "code",
     "collapsed": false,
     "input": "ti = [(k,v) for k,v in ti.items()]",
     "language": "python",
     "metadata": {},
     "outputs": [],
     "prompt_number": 20
    },
    {
     "cell_type": "code",
     "collapsed": false,
     "input": "ti = sorted(ti, key=lambda x: x[1])",
     "language": "python",
     "metadata": {},
     "outputs": [],
     "prompt_number": 21
    },
    {
     "cell_type": "code",
     "collapsed": false,
     "input": "ti[-1]",
     "language": "python",
     "metadata": {},
     "outputs": [
      {
       "metadata": {},
       "output_type": "pyout",
       "prompt_number": 22,
       "text": "('J93-2003', 3961)"
      }
     ],
     "prompt_number": 22
    },
    {
     "cell_type": "markdown",
     "metadata": {},
     "source": "### Clustering"
    },
    {
     "cell_type": "code",
     "collapsed": false,
     "input": "lm = nx.laplacian_matrix(acl.to_undirected())",
     "language": "python",
     "metadata": {},
     "outputs": [],
     "prompt_number": 25
    },
    {
     "cell_type": "code",
     "collapsed": false,
     "input": "type(lm)",
     "language": "python",
     "metadata": {},
     "outputs": [
      {
       "metadata": {},
       "output_type": "pyout",
       "prompt_number": 26,
       "text": "scipy.sparse.csr.csr_matrix"
      }
     ],
     "prompt_number": 26
    },
    {
     "cell_type": "code",
     "collapsed": false,
     "input": "so = nx.spectral_ordering(acl)",
     "language": "python",
     "metadata": {},
     "outputs": [],
     "prompt_number": 27
    },
    {
     "cell_type": "code",
     "collapsed": false,
     "input": "from sklearn.cluster import KMeans\n\nclustering = KMeans(5)",
     "language": "python",
     "metadata": {},
     "outputs": [],
     "prompt_number": 29
    },
    {
     "cell_type": "code",
     "collapsed": false,
     "input": "cl = clustering.fit(lm)",
     "language": "python",
     "metadata": {},
     "outputs": [],
     "prompt_number": 30
    },
    {
     "cell_type": "code",
     "collapsed": false,
     "input": "cl",
     "language": "python",
     "metadata": {},
     "outputs": [
      {
       "metadata": {},
       "output_type": "pyout",
       "prompt_number": 33,
       "text": "KMeans(copy_x=True, init='k-means++', max_iter=300, n_clusters=5, n_init=10,\n    n_jobs=1, precompute_distances='auto', random_state=None, tol=0.0001,\n    verbose=0)"
      }
     ],
     "prompt_number": 33
    },
    {
     "cell_type": "code",
     "collapsed": false,
     "input": "labels = cl.labels_",
     "language": "python",
     "metadata": {},
     "outputs": [],
     "prompt_number": 34
    },
    {
     "cell_type": "code",
     "collapsed": false,
     "input": "from collections import Counter\n\na = Counter(labels)\n\n",
     "language": "python",
     "metadata": {},
     "outputs": [],
     "prompt_number": 45
    },
    {
     "cell_type": "code",
     "collapsed": false,
     "input": "a",
     "language": "python",
     "metadata": {},
     "outputs": [
      {
       "metadata": {},
       "output_type": "pyout",
       "prompt_number": 46,
       "text": "Counter({0: 18156, 1: 1, 2: 1, 3: 1, 4: 1})"
      }
     ],
     "prompt_number": 46
    },
    {
     "cell_type": "markdown",
     "metadata": {},
     "source": "## Playing with the dataset\n\n"
    },
    {
     "cell_type": "code",
     "collapsed": false,
     "input": "#nx.draw(acl, with_labels=False)\n#plt.savefig(\"/home/matias/devel/inf414/acl.png\", dpi=1000)\n#plt.show()",
     "language": "python",
     "metadata": {},
     "outputs": [],
     "prompt_number": 5
    },
    {
     "cell_type": "code",
     "collapsed": false,
     "input": "#plt.savefig(\"acl.png\", dpi=1000)",
     "language": "python",
     "metadata": {},
     "outputs": []
    },
    {
     "cell_type": "code",
     "collapsed": false,
     "input": "#import matplotlib.pyplot as plt\n#\n#graph = acl\n#plt.figure(num=None, figsize=(20, 20), dpi=80)\n#plt.axis('off')\n#fig = plt.figure(1)\n#pos = nx.spring_layout(graph)\n#nx.draw_networkx_nodes(graph,pos)\n#nx.draw_networkx_edges(graph,pos)\n#nx.draw_networkx_labels(graph,pos)\n#\n#cut = 1.00\n#xmax = cut * max(xx for xx, yy in pos.values())\n#ymax = cut * max(yy for xx, yy in pos.values())\n#plt.xlim(0, xmax)\n#plt.ylim(0, ymax)\n#\n#plt.savefig('/home/matias/devel/inf414/acl_graph_wo_labels.pdf',bbox_inches=\"tight\")\n#del fig",
     "language": "python",
     "metadata": {},
     "outputs": [],
     "prompt_number": 3
    }
   ],
   "metadata": {}
  }
 ]
}