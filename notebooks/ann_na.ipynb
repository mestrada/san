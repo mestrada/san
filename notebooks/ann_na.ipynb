{
 "metadata": {
  "name": "ANN Network Analysis"
 },
 "nbformat": 3,
 "nbformat_minor": 0,
 "worksheets": [
  {
   "cells": [
    {
     "cell_type": "markdown",
     "metadata": {},
     "source": "#ACL anthology network\nIn this ipython notebook the AAN dataset is processed showing important network morphologic properties and metrics like:\n- Centrality\n- Size\n- Average degree\n- etc."
    },
    {
     "cell_type": "markdown",
     "metadata": {},
     "source": "# How to use NetworkX python library\n## Simple undirected Graph"
    },
    {
     "cell_type": "code",
     "collapsed": false,
     "input": "import networkx as nx\nimport matplotlib.pyplot as plt\nG=nx.Graph()",
     "language": "python",
     "metadata": {},
     "outputs": [],
     "prompt_number": 2
    },
    {
     "cell_type": "code",
     "collapsed": false,
     "input": "G.add_node('W09-123')\nG.add_nodes_from([2,3])",
     "language": "python",
     "metadata": {},
     "outputs": [],
     "prompt_number": 2
    },
    {
     "cell_type": "code",
     "collapsed": false,
     "input": "G.add_edge(1,2)\ne=('W09-123',3)\nG.add_edge(*e)",
     "language": "python",
     "metadata": {},
     "outputs": [],
     "prompt_number": 3
    },
    {
     "cell_type": "code",
     "collapsed": false,
     "input": "nx.draw(G)\nplt.show()",
     "language": "python",
     "metadata": {},
     "outputs": [],
     "prompt_number": 4
    },
    {
     "cell_type": "code",
     "collapsed": false,
     "input": "G.nodes()",
     "language": "python",
     "metadata": {},
     "outputs": [
      {
       "metadata": {},
       "output_type": "pyout",
       "prompt_number": 7,
       "text": "[1, 2, 3, 'W09-123']"
      }
     ],
     "prompt_number": 7
    },
    {
     "cell_type": "code",
     "collapsed": false,
     "input": "G.edges()",
     "language": "python",
     "metadata": {},
     "outputs": [
      {
       "metadata": {},
       "output_type": "pyout",
       "prompt_number": 9,
       "text": "[(1, 2), (3, 'W09-123')]"
      }
     ],
     "prompt_number": 9
    },
    {
     "cell_type": "markdown",
     "metadata": {},
     "source": "## Directed multigraph\n\nA directed graph class that can store multiedges.\n\nMultiedges are multiple edges between two nodes. Each edge can hold optional data or attributes.\n\nA MultiDiGraph holds directed edges. Self loops are allowed."
    },
    {
     "cell_type": "code",
     "collapsed": false,
     "input": "import networkx as nx\nimport matplotlib.pyplot as plt\nG = nx.MultiDiGraph()",
     "language": "python",
     "metadata": {},
     "outputs": [],
     "prompt_number": 22
    },
    {
     "cell_type": "code",
     "collapsed": false,
     "input": "G.add_node('W09-123')\nG.add_nodes_from([2,3])",
     "language": "python",
     "metadata": {},
     "outputs": [],
     "prompt_number": 23
    },
    {
     "cell_type": "code",
     "collapsed": false,
     "input": "G.add_edge(1,2)\ne=('W09-123',3)\nG.add_edge(*e, author='M. Estrada')\n\ne=('W09-123',3)\nG.add_edge(*e)",
     "language": "python",
     "metadata": {},
     "outputs": [],
     "prompt_number": 25
    },
    {
     "cell_type": "code",
     "collapsed": false,
     "input": "G.add_edge(1, 2, weight=4.7 )\nG.add_edges_from([(3,4),(4,5)], color='red')\nG.add_edges_from([(1,2,{'color':'blue'}), (2,3,{'weight':8})])\nG[1][2][0]['weight'] = 4.7\nG.edge[1][2][0]['weight'] = 4",
     "language": "python",
     "metadata": {},
     "outputs": [],
     "prompt_number": 26
    },
    {
     "cell_type": "code",
     "collapsed": false,
     "input": "nx.draw(G)\nplt.show()",
     "language": "python",
     "metadata": {},
     "outputs": [],
     "prompt_number": 27
    },
    {
     "cell_type": "code",
     "collapsed": false,
     "input": "G.edges()",
     "language": "python",
     "metadata": {},
     "outputs": [
      {
       "metadata": {},
       "output_type": "pyout",
       "prompt_number": 28,
       "text": "[(1, 2),\n (1, 2),\n (1, 2),\n (2, 3),\n (3, 4),\n (4, 5),\n ('W09-123', 3),\n ('W09-123', 3)]"
      }
     ],
     "prompt_number": 28
    },
    {
     "cell_type": "code",
     "collapsed": false,
     "input": "G.get_edge_data(3,4)",
     "language": "python",
     "metadata": {},
     "outputs": [
      {
       "metadata": {},
       "output_type": "pyout",
       "prompt_number": 29,
       "text": "{0: {'color': 'red'}}"
      }
     ],
     "prompt_number": 29
    },
    {
     "cell_type": "code",
     "collapsed": false,
     "input": "G.get_edge_data('W09-123', 3)",
     "language": "python",
     "metadata": {},
     "outputs": [
      {
       "metadata": {},
       "output_type": "pyout",
       "prompt_number": 30,
       "text": "{0: {'author': 'M. Estrada'}, 1: {}}"
      }
     ],
     "prompt_number": 30
    },
    {
     "cell_type": "code",
     "collapsed": false,
     "input": "G.nodes()",
     "language": "python",
     "metadata": {},
     "outputs": [
      {
       "metadata": {},
       "output_type": "pyout",
       "prompt_number": 31,
       "text": "[1, 2, 3, 4, 5, 'W09-123']"
      }
     ],
     "prompt_number": 31
    },
    {
     "cell_type": "markdown",
     "metadata": {},
     "source": "# Load and preprocess dataset files\n## Files content\n\nLocation: `/home/matias/devel/inf414/datasets/aan/aan/release/2013`\n\n`acl.txt`:\n\n```\nC08-3004 ==> A00-1002\nD09-1141 ==> A00-1002\nD12-1027 ==> A00-1002\n\n```\n\n`author_ids.txt`:\n```\n1\tAarseth, Paul\n2\tAarts, Erik\n4\tAbaitua, Joseba\n```\n\n`paper_ids.txt`:\n\n```\nW09-2307\tDiscriminative Reordering...\t2009\nW04-2607\tNon-Classical Lexical Semantic...\t2004\nW01-1314\tA System For Extraction Of...\t2001\n```\n\n`paper_author_affiliations.txt`\n\n```\npaper_id\tauthor_id\taffiliation_id\nC86-1068\t10003\t1\nC98-1070\t2610\t2\nP98-1073\t2610\t2\n```\n\n"
    },
    {
     "cell_type": "markdown",
     "metadata": {},
     "source": "## Generate acl directed multigraph"
    },
    {
     "cell_type": "code",
     "collapsed": false,
     "input": "dataset_location = '/home/matias/devel/inf414/datasets/aan/aan/release/2013/'\nedges = []\nwith open(dataset_location + 'acl.txt', 'r') as acl_file:\n    #  C08-3004 ==> A00-1002\n    separator = ' ==> '\n    for line in acl_file.readlines():\n        edges.append(line.strip().split(separator))\n",
     "language": "python",
     "metadata": {},
     "outputs": [],
     "prompt_number": 1
    },
    {
     "cell_type": "code",
     "collapsed": false,
     "input": "import networkx as nx\nimport matplotlib.pyplot as plt\n\nacl = nx.MultiDiGraph()\nfor edge in edges:\n    acl.add_edge(*edge, etype='cite')\n",
     "language": "python",
     "metadata": {},
     "outputs": [],
     "prompt_number": 2
    },
    {
     "cell_type": "code",
     "collapsed": false,
     "input": "len(acl.nodes())",
     "language": "python",
     "metadata": {},
     "outputs": [
      {
       "metadata": {},
       "output_type": "pyout",
       "prompt_number": 3,
       "text": "18160"
      }
     ],
     "prompt_number": 3
    },
    {
     "cell_type": "code",
     "collapsed": false,
     "input": "len(acl.edges())",
     "language": "python",
     "metadata": {},
     "outputs": [
      {
       "metadata": {},
       "output_type": "pyout",
       "prompt_number": 4,
       "text": "110930"
      }
     ],
     "prompt_number": 4
    },
    {
     "cell_type": "code",
     "collapsed": false,
     "input": "cc = nx.connected_components(acl.to_undirected())",
     "language": "python",
     "metadata": {},
     "outputs": [],
     "prompt_number": 8
    },
    {
     "cell_type": "code",
     "collapsed": false,
     "input": "ccl = list(cc)",
     "language": "python",
     "metadata": {},
     "outputs": [],
     "prompt_number": 10
    },
    {
     "cell_type": "code",
     "collapsed": false,
     "input": "len(ccl)",
     "language": "python",
     "metadata": {},
     "outputs": [
      {
       "metadata": {},
       "output_type": "pyout",
       "prompt_number": 11,
       "text": "97"
      }
     ],
     "prompt_number": 11
    },
    {
     "cell_type": "code",
     "collapsed": false,
     "input": "len(ccl[0])",
     "language": "python",
     "metadata": {},
     "outputs": [
      {
       "metadata": {},
       "output_type": "pyout",
       "prompt_number": 13,
       "text": "17954"
      }
     ],
     "prompt_number": 13
    },
    {
     "cell_type": "code",
     "collapsed": false,
     "input": "sum(map(lambda x: len(x), ccl))",
     "language": "python",
     "metadata": {},
     "outputs": [
      {
       "metadata": {},
       "output_type": "pyout",
       "prompt_number": 14,
       "text": "18160"
      }
     ],
     "prompt_number": 14
    },
    {
     "cell_type": "code",
     "collapsed": false,
     "input": "#nx.centrality.betweenness_centrality(acl)",
     "language": "python",
     "metadata": {},
     "outputs": [],
     "prompt_number": 33
    },
    {
     "cell_type": "code",
     "collapsed": false,
     "input": "acl.degree('W03-0404')",
     "language": "python",
     "metadata": {},
     "outputs": [
      {
       "metadata": {},
       "output_type": "pyout",
       "prompt_number": 5,
       "text": "58"
      }
     ],
     "prompt_number": 5
    },
    {
     "cell_type": "code",
     "collapsed": false,
     "input": "def get_sucessors(network, seed, recursivity=2):\n    current_group = [seed]\n    new_group = []\n    for _ in xrange(0, recursivity):\n        for member in current_group:\n            for successor in network.successors(member):\n                new_group.append(successor)\n        \n        new_group += current_group\n        current_group = list(set(new_group))\n\n    return current_group\n\n#root = acl.successors('W03-1006')\nroot = 'W03-1006'\n\nmembers = get_sucessors(acl, root)\n\nsg_2 = acl.subgraph(list(members))\n",
     "language": "python",
     "metadata": {},
     "outputs": [],
     "prompt_number": 121
    },
    {
     "cell_type": "code",
     "collapsed": false,
     "input": "len(sg_2.nodes())",
     "language": "python",
     "metadata": {},
     "outputs": [
      {
       "metadata": {},
       "output_type": "pyout",
       "prompt_number": 122,
       "text": "64"
      }
     ],
     "prompt_number": 122
    },
    {
     "cell_type": "code",
     "collapsed": false,
     "input": "len(sg_2.edges())",
     "language": "python",
     "metadata": {},
     "outputs": [
      {
       "metadata": {},
       "output_type": "pyout",
       "prompt_number": 123,
       "text": "218"
      }
     ],
     "prompt_number": 123
    },
    {
     "cell_type": "markdown",
     "metadata": {},
     "source": "sg_2.nodes()[:5]"
    },
    {
     "cell_type": "code",
     "collapsed": false,
     "input": "from matplotlib import pylab as pl\n\npos = nx.spring_layout(sg_2)\npl.figure()\nnx.draw(sg_2, pos=pos)",
     "language": "python",
     "metadata": {},
     "outputs": [],
     "prompt_number": 119
    },
    {
     "cell_type": "code",
     "collapsed": false,
     "input": "pos = nx.spring_layout(sg_2)\nnx.draw(sg_2, with_labels=False, pos=pos)\nplt.savefig(\"/home/matias/devel/inf414/acl_sg2_r2.png\", dpi=1000)",
     "language": "python",
     "metadata": {},
     "outputs": [],
     "prompt_number": 127
    },
    {
     "cell_type": "markdown",
     "metadata": {},
     "source": "## Generate acl directed graph\n"
    },
    {
     "cell_type": "code",
     "collapsed": false,
     "input": "",
     "language": "python",
     "metadata": {},
     "outputs": []
    },
    {
     "cell_type": "code",
     "collapsed": false,
     "input": "dataset_location = '/home/matias/devel/inf414/datasets/aan/aan/release/2013/'\nedges = []\nwith open(dataset_location + 'acl.txt', 'r') as acl_file:\n    #  C08-3004 ==> A00-1002\n    separator = ' ==> '\n    for line in acl_file.readlines():\n        edges.append(line.strip().split(separator))\n",
     "language": "python",
     "metadata": {},
     "outputs": [],
     "prompt_number": 3
    },
    {
     "cell_type": "code",
     "collapsed": false,
     "input": "import networkx as nx\nimport matplotlib.pyplot as plt\n\nacl = nx.DiGraph()\nfor edge in edges:\n    acl.add_edge(*edge, etype='cite')\n",
     "language": "python",
     "metadata": {},
     "outputs": [],
     "prompt_number": 4
    },
    {
     "cell_type": "code",
     "collapsed": false,
     "input": "pr = nx.pagerank(acl)",
     "language": "python",
     "metadata": {},
     "outputs": [],
     "prompt_number": 5
    },
    {
     "cell_type": "code",
     "collapsed": false,
     "input": "pr = [(k,v) for k,v in pr.items()]",
     "language": "python",
     "metadata": {},
     "outputs": [],
     "prompt_number": 6
    },
    {
     "cell_type": "code",
     "collapsed": false,
     "input": "pr = sorted(pr, key=lambda x: x[1])",
     "language": "python",
     "metadata": {},
     "outputs": [],
     "prompt_number": 7
    },
    {
     "cell_type": "code",
     "collapsed": false,
     "input": "pr[-1]",
     "language": "python",
     "metadata": {},
     "outputs": [
      {
       "metadata": {},
       "output_type": "pyout",
       "prompt_number": 8,
       "text": "('A88-1019', 0.021201671449356026)"
      }
     ],
     "prompt_number": 8
    },
    {
     "cell_type": "code",
     "collapsed": false,
     "input": "dr = [(node, acl.degree(node)) for node in acl.nodes_iter()]",
     "language": "python",
     "metadata": {},
     "outputs": [],
     "prompt_number": 9
    },
    {
     "cell_type": "code",
     "collapsed": false,
     "input": "dr = sorted(dr, key=lambda x: x[1])",
     "language": "python",
     "metadata": {},
     "outputs": [],
     "prompt_number": 10
    },
    {
     "cell_type": "code",
     "collapsed": false,
     "input": "dr[-1]\n",
     "language": "python",
     "metadata": {},
     "outputs": [
      {
       "metadata": {},
       "output_type": "pyout",
       "prompt_number": 11,
       "text": "('J93-2004', 936)"
      }
     ],
     "prompt_number": 11
    },
    {
     "cell_type": "code",
     "collapsed": false,
     "input": "edges_j93 = [edge if 'J93-2004' in edge else None for edge in acl.edges()]",
     "language": "python",
     "metadata": {},
     "outputs": [],
     "prompt_number": 12
    },
    {
     "cell_type": "code",
     "collapsed": false,
     "input": "len(edges_j93)",
     "language": "python",
     "metadata": {},
     "outputs": [
      {
       "metadata": {},
       "output_type": "pyout",
       "prompt_number": 13,
       "text": "110930"
      }
     ],
     "prompt_number": 13
    },
    {
     "cell_type": "code",
     "collapsed": false,
     "input": "edges_j93 = filter(lambda x: x is not None, edges_j93)",
     "language": "python",
     "metadata": {},
     "outputs": [],
     "prompt_number": 14
    },
    {
     "cell_type": "code",
     "collapsed": false,
     "input": "dc = nx.centrality.degree_centrality(acl)",
     "language": "python",
     "metadata": {},
     "outputs": [],
     "prompt_number": 15
    },
    {
     "cell_type": "code",
     "collapsed": false,
     "input": "dc = [(k,v) for k,v in dc.items()]",
     "language": "python",
     "metadata": {},
     "outputs": [],
     "prompt_number": 16
    },
    {
     "cell_type": "code",
     "collapsed": false,
     "input": "dc = sorted(dc, key=lambda x: x[1])",
     "language": "python",
     "metadata": {},
     "outputs": [],
     "prompt_number": 17
    },
    {
     "cell_type": "code",
     "collapsed": false,
     "input": "dc[-1]",
     "language": "python",
     "metadata": {},
     "outputs": [
      {
       "metadata": {},
       "output_type": "pyout",
       "prompt_number": 18,
       "text": "('J93-2004', 0.05154468858417314)"
      }
     ],
     "prompt_number": 18
    },
    {
     "cell_type": "code",
     "collapsed": false,
     "input": "ti = nx.triangles(acl.to_undirected())",
     "language": "python",
     "metadata": {},
     "outputs": [],
     "prompt_number": 23
    },
    {
     "cell_type": "code",
     "collapsed": false,
     "input": "ti = [(k,v) for k,v in ti.items()]",
     "language": "python",
     "metadata": {},
     "outputs": [],
     "prompt_number": 25
    },
    {
     "cell_type": "code",
     "collapsed": false,
     "input": "ti = sorted(ti, key=lambda x: x[1])",
     "language": "python",
     "metadata": {},
     "outputs": [],
     "prompt_number": 26
    },
    {
     "cell_type": "code",
     "collapsed": false,
     "input": "ti[-1]",
     "language": "python",
     "metadata": {},
     "outputs": [
      {
       "metadata": {},
       "output_type": "pyout",
       "prompt_number": 29,
       "text": "('J93-2003', 3961)"
      }
     ],
     "prompt_number": 29
    },
    {
     "cell_type": "markdown",
     "metadata": {},
     "source": "## General network metrics\n\n**Nodes**: 18.160\n\n**Edges**: 110.930\n\n**Average out degree**: 6,1085\n\nConnected components: 98\n- 1 big component of 17.954 nodes\n\nMost influential node by pagerank: `A88-1019`: \n```\nauthor = {Church, Kenneth Ward}\ntitle = {A Stochastic Parts Program And Noun Phrase Parser For Unrestricted Text}\nvenue = {Applied Natural Language Processing Conference}\nyear = {1988}\ndegree = {237}\n```\n\nMost influential node by degree: `J93-2004`\n```\nid = {J93-2004}\nauthor = {Marcus, Mitchell P.; Marcinkiewicz, Mary Ann; Santorini, Beatrice}\ntitle = {Building A Large Annotated Corpus Of English: The Penn Treebank}\nvenue = {Computational Linguistics}\nyear = {1993}\ndegree = {936}\n```\n\nNode with the greatest triangle participations:\n\n\n```\nid = {J93-2003}\nauthor = {Brown, Peter F.; Della Pietra, Vincent J.; Della Pietra, Stephen A.; Mercer, Robert L.}\ntitle = {The Mathematics Of Statistical Machine Translation: Parameter Estimation}\nvenue = {Computational Linguistics}\nyear = {1993}\ndegree = {737}\n\n```\n\n"
    },
    {
     "cell_type": "markdown",
     "metadata": {},
     "source": "## Playing with the dataset\n\n"
    },
    {
     "cell_type": "code",
     "collapsed": false,
     "input": "acl.successors('H94-1020')",
     "language": "python",
     "metadata": {},
     "outputs": [
      {
       "metadata": {},
       "output_type": "pyout",
       "prompt_number": 59,
       "text": "['E91-1004',\n 'J93-2004',\n 'H91-1060',\n 'P93-1035',\n 'H92-1030',\n 'J93-1005',\n 'H92-1026']"
      }
     ],
     "prompt_number": 59
    },
    {
     "cell_type": "code",
     "collapsed": false,
     "input": "acl.nodes()[:3]",
     "language": "python",
     "metadata": {},
     "outputs": [
      {
       "metadata": {},
       "output_type": "pyout",
       "prompt_number": 5,
       "text": "['C96-2100', 'W03-1006', 'W03-1007']"
      }
     ],
     "prompt_number": 5
    },
    {
     "cell_type": "code",
     "collapsed": false,
     "input": "acl.degree('W03-1006')",
     "language": "python",
     "metadata": {},
     "outputs": [
      {
       "metadata": {},
       "output_type": "pyout",
       "prompt_number": 10,
       "text": "33"
      }
     ],
     "prompt_number": 10
    },
    {
     "cell_type": "code",
     "collapsed": false,
     "input": "neig = acl.neighbors('W03-1006')\nneig",
     "language": "python",
     "metadata": {},
     "outputs": [
      {
       "metadata": {},
       "output_type": "pyout",
       "prompt_number": 27,
       "text": "['H94-1020',\n 'P00-1058',\n 'P95-1037',\n 'J99-2004',\n 'P02-1031',\n 'W02-1031',\n 'J93-2004']"
      }
     ],
     "prompt_number": 27
    },
    {
     "cell_type": "code",
     "collapsed": false,
     "input": "sg = acl.subgraph(neig + ['W03-1006'])\nsg.size()",
     "language": "python",
     "metadata": {},
     "outputs": [
      {
       "metadata": {},
       "output_type": "pyout",
       "prompt_number": 33,
       "text": "12"
      }
     ],
     "prompt_number": 33
    },
    {
     "cell_type": "code",
     "collapsed": false,
     "input": "sg.nodes()",
     "language": "python",
     "metadata": {},
     "outputs": [
      {
       "metadata": {},
       "output_type": "pyout",
       "prompt_number": 34,
       "text": "['H94-1020',\n 'W03-1006',\n 'P00-1058',\n 'P95-1037',\n 'J99-2004',\n 'P02-1031',\n 'W02-1031',\n 'J93-2004']"
      }
     ],
     "prompt_number": 34
    },
    {
     "cell_type": "code",
     "collapsed": false,
     "input": "sg.edges()",
     "language": "python",
     "metadata": {},
     "outputs": [
      {
       "metadata": {},
       "output_type": "pyout",
       "prompt_number": 35,
       "text": "[('H94-1020', 'J93-2004'),\n ('P00-1058', 'P95-1037'),\n ('J99-2004', 'J93-2004'),\n ('J99-2004', 'P95-1037'),\n ('W03-1006', 'H94-1020'),\n ('W03-1006', 'P00-1058'),\n ('W03-1006', 'P95-1037'),\n ('W03-1006', 'J99-2004'),\n ('W03-1006', 'P02-1031'),\n ('W03-1006', 'W02-1031'),\n ('W03-1006', 'J93-2004'),\n ('W02-1031', 'J93-2004')]"
      }
     ],
     "prompt_number": 35
    },
    {
     "cell_type": "code",
     "collapsed": false,
     "input": "node = acl.successors('C96-2100')\nnode",
     "language": "python",
     "metadata": {},
     "outputs": [
      {
       "metadata": {},
       "output_type": "pyout",
       "prompt_number": 48,
       "text": "['J93-1007', 'W95-0110', 'C94-2165', 'J90-1003', 'J93-1001']"
      }
     ],
     "prompt_number": 48
    },
    {
     "cell_type": "code",
     "collapsed": false,
     "input": "type(neig)\nneig[0]",
     "language": "python",
     "metadata": {},
     "outputs": [
      {
       "metadata": {},
       "output_type": "pyout",
       "prompt_number": 25,
       "text": "'H94-1020'"
      }
     ],
     "prompt_number": 25
    },
    {
     "cell_type": "code",
     "collapsed": false,
     "input": "#nx.draw(acl, with_labels=False)\n#plt.savefig(\"/home/matias/devel/inf414/acl.png\", dpi=1000)\n#plt.show()",
     "language": "python",
     "metadata": {},
     "outputs": [],
     "prompt_number": 5
    },
    {
     "cell_type": "code",
     "collapsed": false,
     "input": "#plt.savefig(\"acl.png\", dpi=1000)",
     "language": "python",
     "metadata": {},
     "outputs": []
    }
   ],
   "metadata": {}
  }
 ]
}